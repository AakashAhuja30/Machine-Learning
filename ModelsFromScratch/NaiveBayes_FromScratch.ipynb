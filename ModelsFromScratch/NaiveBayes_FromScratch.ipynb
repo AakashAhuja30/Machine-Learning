{
  "nbformat": 4,
  "nbformat_minor": 0,
  "metadata": {
    "colab": {
      "name": "NaiveBayes_FromScratch.ipynb",
      "provenance": [],
      "authorship_tag": "ABX9TyMjYm+VJbC8mndA178oBkcW",
      "include_colab_link": true
    },
    "kernelspec": {
      "name": "python3",
      "display_name": "Python 3"
    }
  },
  "cells": [
    {
      "cell_type": "markdown",
      "metadata": {
        "id": "view-in-github",
        "colab_type": "text"
      },
      "source": [
        "<a href=\"https://colab.research.google.com/github/AakashAhuja30/Machine-Learning/blob/master/ModelsFromScratch/NaiveBayes_FromScratch.ipynb\" target=\"_parent\"><img src=\"https://colab.research.google.com/assets/colab-badge.svg\" alt=\"Open In Colab\"/></a>"
      ]
    },
    {
      "cell_type": "code",
      "metadata": {
        "id": "vVX3x_SQb7xg"
      },
      "source": [
        "import numpy as np\n",
        "import matplotlib.pyplot as plt\n",
        "from sklearn.model_selection import train_test_split\n",
        "from sklearn import datasets"
      ],
      "execution_count": null,
      "outputs": []
    },
    {
      "cell_type": "markdown",
      "metadata": {
        "id": "C1WZMEuDuzpr"
      },
      "source": [
        "#Assumption: All features are mutually independent"
      ]
    },
    {
      "cell_type": "code",
      "metadata": {
        "id": "8YUSWtBWIsS0"
      },
      "source": [
        "class NaiveBayes():\n",
        "\n",
        "  def fit(self,Xtrain,Ytrain):\n",
        "    n_samples, n_features = Xtrain.shape\n",
        "    self.classes = np.unique(Ytrain)\n",
        "    n_classes = len(self.classes)\n",
        "\n",
        "    self.mean= np.zeros((n_classes,n_features), dtype=np.float64)\n",
        "    self.var = np.zeros((n_classes,n_features), dtype=np.float64)\n",
        "    self.priors = np.zeros(n_classes, dtype=np.float64)\n",
        "\n",
        "    for c in self.classes:\n",
        "      X_c = Xtrain[c==Ytrain]\n",
        "      self.mean[c,:] = X_c.mean(axis=0)\n",
        "      self.var[c,:] = X_c.var(axis = 0)\n",
        "      self.priors[c] = X_c.shape[0] / float(n_samples)\n",
        "      \n",
        "\n",
        "  def predict(self,Xtest):\n",
        "    y_pred = [self.predictself(x) for x in Xtest]\n",
        "    return y_pred\n",
        "\n",
        "  def predictself(self,x):\n",
        "    posteriors = []\n",
        "    for idx,c in enumerate(self.classes):\n",
        "      prior = np.log(self.priors[idx])\n",
        "      likelihood = np.sum(np.log(self.prob_density(idx,x)))\n",
        "      posterior = prior + likelihood # plus sign because we took log. therefore multiplication became addition\n",
        "      posteriors.append(posterior)\n",
        "    \n",
        "    return self.classes[np.argmax(posteriors)]\n",
        "\n",
        "\n",
        "  def prob_density(self,class_indx,x):\n",
        "    mean = self.mean[class_indx]\n",
        "    var = self.var[class_indx]\n",
        "    numerator = np.exp( - (x-mean)**2/(2*var))\n",
        "    denominator = np.sqrt(2*np.pi*var)\n",
        "    return numerator / denominator\n"
      ],
      "execution_count": null,
      "outputs": []
    },
    {
      "cell_type": "code",
      "metadata": {
        "id": "YaK9dOvdb9Ri"
      },
      "source": [
        "X,y = datasets.make_classification(n_samples=1000,n_features=10,n_classes=2,random_state=123)\n",
        "X_train, X_test, y_train, y_test = train_test_split(X,y,test_size = 0.2, random_state=123)"
      ],
      "execution_count": null,
      "outputs": []
    },
    {
      "cell_type": "code",
      "metadata": {
        "id": "qGJOtJmGj4yd"
      },
      "source": [
        "nb = NaiveBayes()"
      ],
      "execution_count": null,
      "outputs": []
    },
    {
      "cell_type": "code",
      "metadata": {
        "id": "0sv5kdlYj6qa"
      },
      "source": [
        "nb.fit(X_train,y_train)"
      ],
      "execution_count": null,
      "outputs": []
    },
    {
      "cell_type": "code",
      "metadata": {
        "id": "yGngK_apkBFQ"
      },
      "source": [
        "predictions = nb.predict(X_test)"
      ],
      "execution_count": null,
      "outputs": []
    },
    {
      "cell_type": "code",
      "metadata": {
        "id": "DbWryPkfkFwe"
      },
      "source": [
        "def accuracy(y_true, y_pred):\n",
        "  acc=np.sum(y_true == y_pred) / len(y_true)\n",
        "  return acc"
      ],
      "execution_count": null,
      "outputs": []
    },
    {
      "cell_type": "code",
      "metadata": {
        "colab": {
          "base_uri": "https://localhost:8080/",
          "height": 35
        },
        "id": "bLg9DogjkjZm",
        "outputId": "9533de57-b5d6-4e7a-fc69-4c80ab8981a2"
      },
      "source": [
        "accu=accuracy(y_test,predictions)\n",
        "f'accuracy is {accu*100} %'"
      ],
      "execution_count": null,
      "outputs": [
        {
          "output_type": "execute_result",
          "data": {
            "application/vnd.google.colaboratory.intrinsic+json": {
              "type": "string"
            },
            "text/plain": [
              "'accuracy is 96.5 %'"
            ]
          },
          "metadata": {
            "tags": []
          },
          "execution_count": 19
        }
      ]
    },
    {
      "cell_type": "code",
      "metadata": {
        "id": "8tm1N_tJkuUV"
      },
      "source": [
        ""
      ],
      "execution_count": null,
      "outputs": []
    }
  ]
}