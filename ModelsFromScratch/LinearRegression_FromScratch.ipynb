{
  "nbformat": 4,
  "nbformat_minor": 0,
  "metadata": {
    "colab": {
      "name": "LinearRegression_FromScratch.ipynb",
      "provenance": [],
      "authorship_tag": "ABX9TyO3zexDJP+qt9cQE15VOC8o",
      "include_colab_link": true
    },
    "kernelspec": {
      "name": "python3",
      "display_name": "Python 3"
    }
  },
  "cells": [
    {
      "cell_type": "markdown",
      "metadata": {
        "id": "view-in-github",
        "colab_type": "text"
      },
      "source": [
        "<a href=\"https://colab.research.google.com/github/AakashAhuja30/Machine-Learning/blob/master/ModelsFromScratch/LinearRegression_FromScratch.ipynb\" target=\"_parent\"><img src=\"https://colab.research.google.com/assets/colab-badge.svg\" alt=\"Open In Colab\"/></a>"
      ]
    },
    {
      "cell_type": "markdown",
      "metadata": {
        "id": "ENdKE5QOk5Nx"
      },
      "source": [
        "##Linear Regression"
      ]
    },
    {
      "cell_type": "code",
      "metadata": {
        "id": "8HKvMHLyZhVc"
      },
      "source": [
        "import numpy as np\n",
        "import matplotlib.pyplot as plt\n",
        "from sklearn.model_selection import train_test_split\n",
        "from sklearn import datasets"
      ],
      "execution_count": 4,
      "outputs": []
    },
    {
      "cell_type": "code",
      "metadata": {
        "id": "ASTPBwLibxok"
      },
      "source": [
        "X, y = datasets.make_regression(n_samples=100, n_features=1,noise=20,random_state=4)"
      ],
      "execution_count": 14,
      "outputs": []
    },
    {
      "cell_type": "code",
      "metadata": {
        "id": "7-x5aMfmcBpk"
      },
      "source": [
        "X_train, X_test, y_train, y_test = train_test_split(X,y,test_size = 0.2,random_state = 42)"
      ],
      "execution_count": 15,
      "outputs": []
    },
    {
      "cell_type": "code",
      "metadata": {
        "colab": {
          "base_uri": "https://localhost:8080/",
          "height": 265
        },
        "id": "ShXwJAUIcTK3",
        "outputId": "ebf1b457-78d1-49f8-a1e2-1f202eb7805c"
      },
      "source": [
        "fig = plt.figure()\n",
        "plt.scatter(X[:,0],y,color = 'b',marker='o', s=30)\n",
        "plt.show()"
      ],
      "execution_count": 16,
      "outputs": [
        {
          "output_type": "display_data",
          "data": {
            "image/png": "[encoded data removed]",
            "text/plain": [
              "<Figure size 432x288 with 1 Axes>"
            ]
          },
          "metadata": {
            "tags": [],
            "needs_background": "light"
          }
        }
      ]
    },
    {
      "cell_type": "code",
      "metadata": {
        "colab": {
          "base_uri": "https://localhost:8080/"
        },
        "id": "gIRj1FXmc0UN",
        "outputId": "8582188a-de14-4b2c-da8e-79724393922f"
      },
      "source": [
        "X.shape"
      ],
      "execution_count": 17,
      "outputs": [
        {
          "output_type": "execute_result",
          "data": {
            "text/plain": [
              "(100, 1)"
            ]
          },
          "metadata": {
            "tags": []
          },
          "execution_count": 17
        }
      ]
    },
    {
      "cell_type": "code",
      "metadata": {
        "id": "VAkdYDQzau9x"
      },
      "source": [
        "class LinearRegression():\n",
        "  def __init__(self, lr = 0.001, n_iter = 1000):\n",
        "    self.lr = lr\n",
        "    self.n_iter = n_iter\n",
        "    self.weights = None\n",
        "    self.bias = None\n",
        "\n",
        "  def fit(self,X,y):\n",
        "    #Gradient descent\n",
        "    n_samples, n_features = X.shape\n",
        "    #init parameters\n",
        "    self.weights = np.zeros(n_features)\n",
        "    self.bias = 0\n",
        "\n",
        "    for _ in range(self.n_iter):\n",
        "      y_predicted = np.dot(X,self.weights) + self.bias\n",
        "      dw = (1/n_samples) * np.dot(X.T,(y_predicted - y))\n",
        "      db = (1/n_samples) * np.sum(y_predicted - y)\n",
        "      self.weights -= self.lr * dw\n",
        "      self.bias -= self.lr * db\n",
        "\n",
        "  def predict(self,X):\n",
        "    y_predicted = np.dot(X,self.weights) + self.bias\n",
        "    return y_predicted"
      ],
      "execution_count": 21,
      "outputs": []
    },
    {
      "cell_type": "code",
      "metadata": {
        "id": "TR8ls8jea_ya"
      },
      "source": [
        "regressor = LinearRegression(lr=0.01)\n",
        "regressor.fit(X_train,y_train)"
      ],
      "execution_count": 35,
      "outputs": []
    },
    {
      "cell_type": "code",
      "metadata": {
        "id": "UXweSpdJgpxk"
      },
      "source": [
        "predicted = regressor.predict(X_test)"
      ],
      "execution_count": 36,
      "outputs": []
    },
    {
      "cell_type": "code",
      "metadata": {
        "colab": {
          "base_uri": "https://localhost:8080/"
        },
        "id": "PzcwuZpsg_vZ",
        "outputId": "b9c412b0-0d45-4825-9207-15ca0c4ce276"
      },
      "source": [
        "predicted"
      ],
      "execution_count": 37,
      "outputs": [
        {
          "output_type": "execute_result",
          "data": {
            "text/plain": [
              "array([  59.46107975,  -48.23362218,   59.36577956, -108.48017766,\n",
              "         86.87966125,   14.13086936,  -86.20395301,   58.72209254,\n",
              "        -48.23826315, -100.42080098,   22.46805244,   22.2216393 ,\n",
              "         11.98665937,   15.67208544,  -74.20465255,    3.6429625 ,\n",
              "          3.83353015,  -39.32602296, -118.10326087, -114.99744164])"
            ]
          },
          "metadata": {
            "tags": []
          },
          "execution_count": 37
        }
      ]
    },
    {
      "cell_type": "code",
      "metadata": {
        "id": "XFU1FrgZhGDp"
      },
      "source": [
        "def mse(y_true,y_predicted):\n",
        "  return np.mean((y_true-y_predicted)**2)"
      ],
      "execution_count": 38,
      "outputs": []
    },
    {
      "cell_type": "code",
      "metadata": {
        "colab": {
          "base_uri": "https://localhost:8080/"
        },
        "id": "7ks8j-UQhcbK",
        "outputId": "9477f58b-a4d4-4bda-b418-189ff9144e52"
      },
      "source": [
        "mse_value = mse(y_test,predicted)\n",
        "print(mse_value)"
      ],
      "execution_count": 39,
      "outputs": [
        {
          "output_type": "stream",
          "text": [
            "325.7197246718065\n"
          ],
          "name": "stdout"
        }
      ]
    },
    {
      "cell_type": "code",
      "metadata": {
        "colab": {
          "base_uri": "https://localhost:8080/",
          "height": 265
        },
        "id": "bPBt8GAmhulo",
        "outputId": "72ae77da-48c2-4be0-e8ff-33d099657893"
      },
      "source": [
        "y_pred_line = regressor.predict(X_test)\n",
        "cmap = plt.get_cmap('viridis')\n",
        "fig = plt.figure()\n",
        "m1 = plt.scatter(X_train,y_train,color = cmap(0.9),s=10)\n",
        "m2 = plt.scatter(X_test,y_test,color = cmap(0.9),s=10)\n",
        "plt.plot(X_test,y_pred_line)\n",
        "plt.show()"
      ],
      "execution_count": 42,
      "outputs": [
        {
          "output_type": "display_data",
          "data": {
            "image/png": "[encoded data removed]",
            "text/plain": [
              "<Figure size 432x288 with 1 Axes>"
            ]
          },
          "metadata": {
            "tags": [],
            "needs_background": "light"
          }
        }
      ]
    },
    {
      "cell_type": "code",
      "metadata": {
        "id": "gRFpJZGNinR6"
      },
      "source": [
        ""
      ],
      "execution_count": null,
      "outputs": []
    }
  ]
}