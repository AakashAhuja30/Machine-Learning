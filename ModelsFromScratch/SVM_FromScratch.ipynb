{
  "nbformat": 4,
  "nbformat_minor": 0,
  "metadata": {
    "colab": {
      "name": "SVM_FromScratch.ipynb",
      "provenance": [],
      "authorship_tag": "ABX9TyOx2QytgT1Fd1lKf7wYQx6S",
      "include_colab_link": true
    },
    "kernelspec": {
      "name": "python3",
      "display_name": "Python 3"
    }
  },
  "cells": [
    {
      "cell_type": "markdown",
      "metadata": {
        "id": "view-in-github",
        "colab_type": "text"
      },
      "source": [
        "<a href=\"https://colab.research.google.com/github/AakashAhuja30/Machine-Learning/blob/master/ModelsFromScratch/SVM_FromScratch.ipynb\" target=\"_parent\"><img src=\"https://colab.research.google.com/assets/colab-badge.svg\" alt=\"Open In Colab\"/></a>"
      ]
    },
    {
      "cell_type": "code",
      "metadata": {
        "id": "tEfi6RWH1HDY"
      },
      "source": [
        "import numpy as np\n",
        "import matplotlib.pyplot as plt\n",
        "from sklearn.model_selection import train_test_split\n",
        "from sklearn import datasets"
      ],
      "execution_count": 1,
      "outputs": []
    },
    {
      "cell_type": "code",
      "metadata": {
        "id": "WIfw6jMX1L8d"
      },
      "source": [
        "class SVM():\n",
        "  def __init__(self, lr = 0.001, lambda_param = 0.01, n_iters = 1000):\n",
        "    self.lambda_param = lambda_param\n",
        "    self.lr = lr\n",
        "    self.lambda_param = lambda_param\n",
        "    self.n_iters = n_iters\n",
        "    self.weights = None\n",
        "    self.bias = None\n",
        "\n",
        "  def fit(self,X_train, y_train):\n",
        "    y_ = np.where(y_train<=0,-1,1)\n",
        "    n_samples, n_features = X_train.shape\n",
        "    self.weights = np.zeros(n_features)\n",
        "    self.bias = 0\n",
        "\n",
        "    #Gradient Descent\n",
        "    for _ in range(self.n_iters):\n",
        "      for idx, x_i in enumerate(X_train):\n",
        "        condition = y_[idx]* (np.dot(x_i,self.weights)-self.bias)\n",
        "        if condition >=1:            \n",
        "          self.weights -= self.lr * (2* self.lambda_param * self.weights)\n",
        "          #Derivative of b = 0\n",
        "        else:\n",
        "          self.weights -= self.lr *(2*self.lambda_param*self.weights - np.dot(x_i,y_[idx]))\n",
        "          self.bias -= self.lr * y_[idx]\n",
        "\n",
        "\n",
        "  def predict(self,X_test):\n",
        "    linear_output = np.dot(X_test,self.weights) - self.bias\n",
        "    return np.sign(linear_output)\n",
        "\n",
        "  \n"
      ],
      "execution_count": 10,
      "outputs": []
    },
    {
      "cell_type": "code",
      "metadata": {
        "id": "0NVBsPQWGTgC"
      },
      "source": [
        "X,y = datasets.make_blobs(n_samples=1000,n_features=10,centers=2, cluster_std=1.05)"
      ],
      "execution_count": 19,
      "outputs": []
    },
    {
      "cell_type": "code",
      "metadata": {
        "id": "wiPiN_vdG8B7"
      },
      "source": [
        "X_train, X_test, y_train, y_test =  train_test_split(X,y,test_size = 0.1, random_state = 123)"
      ],
      "execution_count": 20,
      "outputs": []
    },
    {
      "cell_type": "code",
      "metadata": {
        "id": "6xRFZ0agGlCR"
      },
      "source": [
        "y = np.where(y==0,-1,1)"
      ],
      "execution_count": 21,
      "outputs": []
    },
    {
      "cell_type": "code",
      "metadata": {
        "id": "ZiZGawlUGuUX"
      },
      "source": [
        "clf = SVM()"
      ],
      "execution_count": 22,
      "outputs": []
    },
    {
      "cell_type": "code",
      "metadata": {
        "id": "aBgK1k14GzVz"
      },
      "source": [
        "clf.fit(X,y)"
      ],
      "execution_count": 23,
      "outputs": []
    },
    {
      "cell_type": "code",
      "metadata": {
        "id": "LCqzHOIsG1Er"
      },
      "source": [
        "preds = clf.predict(X_test)"
      ],
      "execution_count": 24,
      "outputs": []
    },
    {
      "cell_type": "code",
      "metadata": {
        "id": "yECtOP1mHIbc"
      },
      "source": [
        "def accuracy(y_true, y_pred):\n",
        "  acc = np.sum(y_true == y_pred) / len(y_true)\n",
        "  return acc\n",
        "\n"
      ],
      "execution_count": 25,
      "outputs": []
    },
    {
      "cell_type": "code",
      "metadata": {
        "colab": {
          "base_uri": "https://localhost:8080/",
          "height": 35
        },
        "id": "32QG05KsHYOl",
        "outputId": "0807012a-c805-43f7-972e-27581aa50e35"
      },
      "source": [
        "acc = accuracy(y_test,preds)\n",
        "f'accuracy is {acc *100}%'"
      ],
      "execution_count": 27,
      "outputs": [
        {
          "output_type": "execute_result",
          "data": {
            "application/vnd.google.colaboratory.intrinsic+json": {
              "type": "string"
            },
            "text/plain": [
              "'accuracy is 54.0%'"
            ]
          },
          "metadata": {
            "tags": []
          },
          "execution_count": 27
        }
      ]
    },
    {
      "cell_type": "code",
      "metadata": {
        "id": "2JeN_Ap0Hfh-"
      },
      "source": [
        ""
      ],
      "execution_count": null,
      "outputs": []
    }
  ]
}